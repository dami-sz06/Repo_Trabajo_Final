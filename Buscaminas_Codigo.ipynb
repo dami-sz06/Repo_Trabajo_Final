{
 "cells": [
  {
   "cell_type": "code",
   "execution_count": 1,
   "id": "83aab6d6",
   "metadata": {},
   "outputs": [],
   "source": [
    "import tkinter as tk\n",
    "import random, time\n",
    "\n",
    "ventana = tk.Tk()\n",
    "ventana.title(\"Busca minas y no de las que te gustan\")\n",
    "ventana.geometry(\"430x300\")\n",
    "ventana.iconbitmap(\"buscaminas meme.jpeg\")\n",
    "grilla  = tk.Frame(ventana)\n",
    "grilla.pack(pady=10)\n",
    "\n",
    "for i in range(10):\n",
    "    for j in range(20):\n",
    "        boton = tk.Button(grilla, text= \" \")\n",
    "        boton.grid(column=j, row = i)\n",
    "\n",
    "etiqueta_cronometro = tk.Label(ventana, text = \"Cronometro\" , font = 10)\n",
    "etiqueta_cronometro.pack()\n",
    "inicio = time.time()\n",
    "\n",
    "def cronometro():\n",
    "    tiempo_transcurrido = time.time() - inicio\n",
    "    string_tiempo = time.strftime('%M:%S', time.gmtime(tiempo_transcurrido))\n",
    "    etiqueta_cronometro.config(text = f\"Tiempo {string_tiempo}\")\n",
    "    ventana.after(10, cronometro)\n",
    "cronometro()\n",
    "ventana.mainloop()\n"
   ]
  }
 ],
 "metadata": {
  "kernelspec": {
   "display_name": "Python 3",
   "language": "python",
   "name": "python3"
  },
  "language_info": {
   "codemirror_mode": {
    "name": "ipython",
    "version": 3
   },
   "file_extension": ".py",
   "mimetype": "text/x-python",
   "name": "python",
   "nbconvert_exporter": "python",
   "pygments_lexer": "ipython3",
   "version": "3.12.10"
  }
 },
 "nbformat": 4,
 "nbformat_minor": 5
}
