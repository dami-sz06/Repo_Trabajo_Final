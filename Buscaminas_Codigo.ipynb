{
 "cells": [
  {
   "cell_type": "code",
   "execution_count": null,
   "id": "83aab6d6",
   "metadata": {},
   "outputs": [],
   "source": [
    "import tkinter as tk\n",
    "import random\n",
    "\n",
    "ventana = tk.Tk()\n",
    "ventana.title(\"Busca minas y no de las que te gustan\")\n",
    "ventana.geometry(\"430x300\")\n",
    "ventana.iconbitmap(\"buscaminas meme.jpeg\")\n",
    "grilla  = tk.Frame(ventana)\n",
    "grilla.pack()\n",
    "\n",
    "for i in range(15):\n",
    "    for j in range(30):\n",
    "        boton = tk.Button(grilla, text= \" \")\n",
    "        boton.grid(column=j, row = i)\n",
    "        \n",
    "ventana.mainloop()\n"
   ]
  }
 ],
 "metadata": {
  "language_info": {
   "name": "python"
  }
 },
 "nbformat": 4,
 "nbformat_minor": 5
}
