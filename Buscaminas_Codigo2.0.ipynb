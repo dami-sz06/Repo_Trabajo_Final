{
 "cells": [
  {
   "cell_type": "code",
   "execution_count": null,
   "id": "6768547f",
   "metadata": {},
   "outputs": [],
   "source": [
    "import tkinter as tk\n",
    "import random, time\n",
    "\n",
    "# imagen_bomba = tk.PhotoImage(file = \"bomba.png\" )\n",
    "\n",
    "def casilla_presionada(boton_espeficio):\n",
    "    boton_espeficio.config(state= \"disabled\", relief = \"sunken\", bg = \"lightgray\")\n",
    "\n",
    "\n",
    "ventana = tk.Tk()\n",
    "ventana.title(\"Buscaminas\")\n",
    "ventana.geometry(\"430x720+1100+0\")\n",
    "ventana.minsize(430, 720)\n",
    "ventana.maxsize(500, 780)\n",
    "ventana.iconbitmap(\"Buscaminas-meme.ico\")\n",
    "\n",
    "marco_etiquetas = tk.Frame(ventana)\n",
    "marco_etiquetas.pack(expand=True, anchor=\"n\")\n",
    "\n",
    "marco_juego = tk.Frame(ventana)\n",
    "marco_juego.configure(width= 1, height= 1)\n",
    "marco_juego.pack(pady = 30)\n",
    "\n",
    "\n",
    "for i in range(10):\n",
    "    for j in range(10):\n",
    "        boton = tk.Button(marco_juego, text= \" \", width = 4, height= 3)\n",
    "        boton.grid(column=j, row = i)\n",
    "        boton.config(command=lambda b=boton: casilla_presionada(b))        \n",
    "\n",
    "\n",
    "etiqueta_cronometro = tk.Label(marco_etiquetas, text = \"Cronómetro\" , font = 8)\n",
    "etiqueta_cronometro.pack()\n",
    "\n",
    "inicio = time.time()\n",
    "\n",
    "def cronometro():\n",
    "    tiempo_transcurrido = time.time() - inicio\n",
    "    string_tiempo = time.strftime('%H:%M:%S', time.gmtime(tiempo_transcurrido))\n",
    "    etiqueta_cronometro.config(text = f\"Cronómetro {string_tiempo}\")\n",
    "    ventana.after(10, cronometro)\n",
    "\n",
    "\n",
    "boton.config(command = casilla_presionada)\n",
    "    \n",
    "cronometro()\n",
    "\n",
    "ventana.mainloop()"
   ]
  }
 ],
 "metadata": {
  "kernelspec": {
   "display_name": "Python 3",
   "language": "python",
   "name": "python3"
  },
  "language_info": {
   "name": "python",
   "version": "3.12.10"
  }
 },
 "nbformat": 4,
 "nbformat_minor": 5
}
