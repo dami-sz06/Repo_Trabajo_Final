import tkinter as tk
import random
import time


TAMANO_GRID = 100
NUM_BOMBAS = 20


botones_grid = {}  
es_bomba = {}      
juego_terminado = False



def casilla_presionada(r, c):
    """Se llama cuando el usuario hace clic en una casilla (botón)"""
    global juego_terminado
    
    if juego_terminado:
        return 

    boton_especifico = botones_grid[(r, c)]

    if es_bomba[(r, c)]:
        
        juego_terminado = True
        boton_especifico.config(text="💣", bg="red", state="disabled", relief="sunken")
        
        for (fila, col), boton in botones_grid.items():
            if es_bomba[(fila, col)]:
                boton.config(text="💣", bg="red")
    else:
       
        boton_especifico.config(state="disabled", relief="sunken", bg="lightgray")

def cronometro():
    """Actualiza la etiqueta del cronómetro cada segundo"""
    if juego_terminado:
        return 
        
    tiempo_transcurrido = time.time() - inicio
    string_tiempo = time.strftime('%H:%M:%S', time.gmtime(tiempo_transcurrido))
    etiqueta_cronometro.config(text=f"Cronómetro {string_tiempo}")
   
    ventana.after(1000, cronometro) 

ventana = tk.Tk()
ventana.title("Buscaminas")
ventana.geometry("430x720+1100+0")
ventana.minsize(430, 720)

marco_etiquetas = tk.Frame(ventana)
marco_etiquetas.pack(expand=True, anchor="n", pady=10)

marco_juego = tk.Frame(ventana)
marco_juego.configure(width=1, height=1)
marco_juego.pack(pady=30)


for i in range(TAMANO_GRID):
    for j in range(TAMANO_GRID):
        
        boton = tk.Button(marco_juego, text=" ", width=4, height=3)
        boton.grid(column=j, row=i)
        
       
        botones_grid[(i, j)] = boton
        
        
        es_bomba[(i, j)] = False
        
        
        boton.config(command=lambda r=i, c=j: casilla_presionada(r, c))


coordenadas_posibles = list(botones_grid.keys())

coordenadas_bombas = random.sample(coordenadas_posibles, NUM_BOMBAS)

for (r, c) in coordenadas_bombas:
    es_bomba[(r, c)] = True
    


etiqueta_cronometro = tk.Label(marco_etiquetas, text="Cronómetro", font=("Arial", 14))
etiqueta_cronometro.pack()

inicio = time.time()
cronometro() 


ventana.mainloop()
